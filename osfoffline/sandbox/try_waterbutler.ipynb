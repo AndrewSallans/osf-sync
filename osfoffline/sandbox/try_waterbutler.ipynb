{
 "cells": [
  {
   "cell_type": "code",
   "execution_count": 24,
   "metadata": {
    "collapsed": false
   },
   "outputs": [],
   "source": [
    "import requests\n",
    "import asyncio\n",
    "import logging\n",
    "\n",
    "import tornado.gen\n",
    "\n",
    "import waterbutler.core.streams\n",
    "import waterbutler.core.exceptions\n",
    "from waterbutler.core.utils import make_provider\n",
    "from waterbutler.core.streams import ResponseStreamReader\n",
    "import aiohttp"
   ]
  },
  {
   "cell_type": "code",
   "execution_count": 25,
   "metadata": {
    "collapsed": false
   },
   "outputs": [],
   "source": [
    "# specific to the provider\n",
    "auth = {\n",
    "\t'name':'himanshu',\n",
    "\t'email':'ho2es@virginia.edu'\n",
    "}\n",
    "# specific to provider\n",
    "credentials = {\n",
    "\t'token': 'eyJhbGciOiJIUzUxMiJ9.ZXlKaGJHY2lPaUprYVhJaUxDSmxibU1pT2lKQk1USTRRMEpETFVoVE1qVTJJbjAuLlZERkg3blRmN1JwS3otWHl5V2NyYncuMFhiOFZuRzFMODVyMzE4WERzc2VPWFI5X3lLOUtlR1otcEYtdXRSRWwzWTl6bUFNU0hSTmhXQ1pNazRjOWpxYXpsU2w1QWp3THBqdzA2cjAxaFBlOHZHdUdnZHpmLTgzUW80WUVhQjJ5d2o4U2RQLVljZUlLS3VraEZjUk5LZWNrai1Td3YzdmxmTTYzSTBITEQxUnNyYzB0bm1qTGpoV0V0NDZrT1pNZFN3LnZfOU9CV285ZDJLU21fOWd2ZWs1bWc._mPnS2zb6Cm-f-uSjzI3OVvUz7IfsxL3IPB_IShRHwQNyNw-zZM1_RrMMHSzmq9s0VS8bAdAg4JfDmMB438uIg'\n",
    "}\n",
    "# specific to provider\n",
    "settings = {\n",
    "\t'folder': {\n",
    "\t\t'id': 'someid',\n",
    "\t\t'name': '/myfolder/'\n",
    "\t}\n",
    "}\n",
    "\n",
    "\n"
   ]
  },
  {
   "cell_type": "code",
   "execution_count": 26,
   "metadata": {
    "collapsed": false
   },
   "outputs": [],
   "source": [
    "# provider to write/read from the local file system\n",
    "local_filesystem_provider = make_provider(\n",
    "\tname='filesystem',\n",
    "    auth={},\n",
    "\tcredentials={},\n",
    "\tsettings={'folder': '/tmp/blah'}\n",
    ")\n"
   ]
  },
  {
   "cell_type": "code",
   "execution_count": 32,
   "metadata": {
    "collapsed": false
   },
   "outputs": [
    {
     "name": "stdout",
     "output_type": "stream",
     "text": [
      "/blah.txt\n"
     ]
    }
   ],
   "source": [
    "def upload(file_like):\n",
    "    pass\n",
    "\n",
    "@asyncio.coroutine\n",
    "def download(file_name, token):\n",
    "    \"\"\"\n",
    "    This method uploads a file to the local_file_system_provider from the waterbutler file response.\n",
    "    Using a waterbutler provider allows it to use the response stream reader AND allows us to do this asynchronously.\n",
    "    \"\"\"\n",
    "    \n",
    "    path = yield from local_filesystem_provider.validate_path(file_name)\n",
    "    \n",
    "    response = yield from aiohttp.request(\n",
    "        'GET',\n",
    "        'http://localhost:7777/file?path=/blah.txt&nid=nq782&provider=osfstorage',\n",
    "        headers={'Authorization': 'Bearer {}'.format(token)}\n",
    "    )\n",
    "    yield from local_filesystem_provider.upload(\n",
    "        ResponseStreamReader(response, unsizable=True),\n",
    "        path,\n",
    "    )\n",
    "\n",
    "loop = asyncio.get_event_loop()\n",
    "loop.run_until_complete(download('/blah.txt', credentials['token']))"
   ]
  },
  {
   "cell_type": "code",
   "execution_count": null,
   "metadata": {
    "collapsed": true
   },
   "outputs": [],
   "source": [
    "@asyncio.coroutine\n",
    "def create_local_file_folder(local, remote): \n",
    "    local_filesystem_provider = make_provider(\n",
    "        name='filesystem',\n",
    "        auth={},\n",
    "        credentials={},\n",
    "        settings={'folder': local.path}\n",
    "    )\n",
    "    #validates and returns a WaterButlerPath object\n",
    "    path = yield from local_filesystem_provider.validate_path(remote['name'])\n",
    "    #wait until response is attained from given url.\n",
    "    response = yield from make_request(url=remote['links']['self'])\n",
    "    if response.ok:\n",
    "        #todo: update local model accordingly.\n",
    "        \n",
    "        # stream the file response to where it belongs.\n",
    "        yield from local_file_system_provider.upload(\n",
    "            ResponseStreamReader(response, unsizable=True),\n",
    "            path,\n",
    "        )\n",
    "\n",
    "@asyncio.coroutine\n",
    "def make_request(url):\n",
    "    yield aiohttp.request(\n",
    "        'GET',\n",
    "        url,\n",
    "        headers={'Authorization': 'Bearer {}'.format(self.token)}\n",
    "    )"
   ]
  },
  {
   "cell_type": "code",
   "execution_count": null,
   "metadata": {
    "collapsed": true
   },
   "outputs": [],
   "source": [
    "@asyncio.coroutine\n",
    "def create_local_file_folder(self, remote_file_folder, local_parent_folder, local_node):\n",
    "        print('creating local file folder')\n",
    "        assert remote_file_folder is not None\n",
    "        assert remote_file_folder['type'] == 'files'\n",
    "        assert isinstance(local_parent_folder, File) or local_parent_folder is None\n",
    "        assert local_parent_folder is None or (local_parent_folder.type == File.FOLDER)\n",
    "        assert isinstance(local_node, Node)\n",
    "\n",
    "\n",
    "        #create local file folder in db\n",
    "        type = File.FILE if remote_file_folder['item_type']=='file' else File.FOLDER\n",
    "        new_file_folder = File(\n",
    "            name=remote_file_folder['name'],\n",
    "            type=type,\n",
    "            osf_id=self.get_id(remote_file_folder),\n",
    "            provider=remote_file_folder['provider'],\n",
    "            osf_path=remote_file_folder['path'],\n",
    "            user=self.user,\n",
    "            parent=local_parent_folder,\n",
    "            node=local_node)\n",
    "        self.save(new_file_folder)\n",
    "\n",
    "        #create local file/folder on actual system\n",
    "        local_filesystem_provider = make_provider(\n",
    "            name='filesystem',\n",
    "            auth={},\n",
    "            credentials={},\n",
    "            settings={'folder': local.path}\n",
    "        )\n",
    "        #validates and returns a WaterButlerPath object\n",
    "        path = yield from local_filesystem_provider.validate_path(remote['name'])\n",
    "        #wait until response is attained from given url.\n",
    "        response = yield from make_request(url=remote['links']['self'])\n",
    "        if response.ok:\n",
    "            #todo: update local model accordingly.\n",
    "\n",
    "            # stream the file response to where it belongs.\n",
    "            yield from local_file_system_provider.upload(\n",
    "                ResponseStreamReader(response, unsizable=True),\n",
    "                path,\n",
    "            )\n",
    "        \n",
    "        if not os.path.exists(new_file_folder.path):\n",
    "            if type == File.FILE:\n",
    "                resp = requests.get(remote_file_folder['links']['self'], headers=self.headers)\n",
    "                with open(new_file_folder.path, 'wb') as fd:\n",
    "                    for chunk in resp.iter_content(2048): #todo: which is better? 1024 or 2048? Apparently, not much difference.\n",
    "                        fd.write(chunk)\n",
    "            elif type == File.FOLDER:\n",
    "                os.makedirs(new_file_folder.path)\n",
    "            else:\n",
    "                raise ValueError('file type is unknown')\n",
    "        return new_file_folder"
   ]
  }
 ],
 "metadata": {
  "kernelspec": {
   "display_name": "Python 3",
   "language": "python",
   "name": "python3"
  },
  "language_info": {
   "codemirror_mode": {
    "name": "ipython",
    "version": 3
   },
   "file_extension": ".py",
   "mimetype": "text/x-python",
   "name": "python",
   "nbconvert_exporter": "python",
   "pygments_lexer": "ipython3",
   "version": "3.4.3"
  }
 },
 "nbformat": 4,
 "nbformat_minor": 0
}
