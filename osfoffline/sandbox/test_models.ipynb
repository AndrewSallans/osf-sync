{
 "cells": [
  {
   "cell_type": "code",
   "execution_count": 3,
   "metadata": {},
   "outputs": [],
   "source": [
    "__author__ = 'himanshu'\n",
    "import hashlib\n",
    "from sqlalchemy import create_engine, Table, ForeignKey, Enum\n",
    "from datetime import date, datetime\n",
    "from sqlalchemy.orm import sessionmaker, relationship, backref, scoped_session\n",
    "from sqlalchemy import Column, Integer, Boolean, String, DateTime\n",
    "from sqlalchemy.ext.declarative import declarative_base\n",
    "from sqlalchemy.pool import SingletonThreadPool\n",
    "from sqlalchemy.ext.hybrid import hybrid_property\n",
    "import os\n",
    "Base = declarative_base()\n",
    "from sqlalchemy.sql.expression import ColumnElement\n",
    "from sqlalchemy.ext.compiler import compiles\n",
    "from sqlalchemy import inspect"
   ]
  },
  {
   "cell_type": "code",
   "execution_count": 4,
   "metadata": {},
   "outputs": [],
   "source": [
    "class User(Base):\n",
    "     __tablename__ = 'user'\n",
    "\n",
    "     id = Column(Integer, primary_key=True)\n",
    "     fullname = Column(String)\n",
    "     osf_login = Column(String)\n",
    "     osf_password = Column(String)\n",
    "     osf_path = Column(String)\n",
    "     oauth_token = Column(String)\n",
    "     osf_id = Column(String)\n",
    "\n",
    "     #todo: enforce category = PROJECT condition for projects\n",
    "     nodes = relationship(\n",
    "         \"Node\",\n",
    "         backref =backref('user'),\n",
    "         cascade=\"all, delete-orphan\"\n",
    "     )\n",
    "\n",
    "     files = relationship(\n",
    "         \"File\",\n",
    "         backref=backref('user'),\n",
    "         cascade=\"all, delete-orphan\"\n",
    "     )\n",
    "\n",
    "     @hybrid_property\n",
    "     def projects(self):\n",
    "         projects =[]\n",
    "         for node in self.nodes:\n",
    "             if node.category == Node.PROJECT:\n",
    "                 projects.append(node)\n",
    "         return projects\n",
    "\n",
    "     def __repr__(self):\n",
    "       return \"<User(fullname={}, osf_password={}, osf_path={})>\".format(\n",
    "                             self.fullname, self.osf_password, self.osf_path)"
   ]
  },
  {
   "cell_type": "code",
   "execution_count": 5,
   "metadata": {},
   "outputs": [],
   "source": [
    "class PathColumn (ColumnElement):\n",
    "    def __init__(self, entity):\n",
    "        insp = inspect(entity)\n",
    "        self.entity = insp.selectable\n",
    " \n",
    "@compiles(PathColumn)\n",
    "def compile_path_column(element, compiler, **kwargs):\n",
    "    return \"%s.path\" % compiler.process(element.entity, ashint=True)\n",
    "\n",
    "class Node(Base):\n",
    "    __tablename__ = \"node\"\n",
    "\n",
    "    PROJECT='project'\n",
    "    COMPONENT='component'\n",
    "\n",
    "    id = Column(Integer, primary_key=True)\n",
    "    title = Column(String)\n",
    "    path = Column(String)\n",
    "    hash = Column(String)\n",
    "    category = Column(Enum(PROJECT, COMPONENT))\n",
    "    date_modified = Column(DateTime)\n",
    "    osf_id = Column(String)\n",
    "\n",
    "    deleted = Column(Boolean, default=False)\n",
    "\n",
    "    user_id = Column(Integer, ForeignKey('user.id'))\n",
    "    parent_id = Column(Integer, ForeignKey('node.id'))\n",
    "    components = relationship(\n",
    "        \"Node\",\n",
    "        backref=backref('parent', remote_side=[id]),\n",
    "        # cascade=\"all, delete-orphan\" #todo: watchdog crawls up so cascade makes things fail on recursive delete. may want to have delete just ignore fails.\n",
    "    )\n",
    "    files = relationship(\n",
    "        \"File\",\n",
    "        backref=backref('node')\n",
    "    )\n",
    "\n",
    "    @hybrid_property\n",
    "    def path(self):\n",
    "        \"\"\"Recursively walk up the path of the node. Top level node joins with the osf folder path of the user\n",
    "        \"\"\"\n",
    "        # +os.path.sep+ instead of os.path.join: http://stackoverflow.com/a/14504695\n",
    "        if self.parent:\n",
    "            return os.path.join(self.parent.path, self.title)\n",
    "        else:\n",
    "            return os.path.join(self.user.osf_path , self.title)\n",
    "\n",
    "    @path.expression\n",
    "    def path(cls):\n",
    "        return PathColumn(cls)\n",
    "\n",
    "    def update_hash(self, blocksize=2**20):\n",
    "        pass\n",
    "        #todo: what to do in this case?\n",
    "\n",
    "    def update_time(self, dt=None):\n",
    "        if dt:\n",
    "            self.date_modified = dt\n",
    "        else:\n",
    "            self.date_modified = datetime.now()\n",
    "\n",
    "    def __repr__(self):\n",
    "        return \"<Node ({}), category={}, title={}, path={}, parent_id={}>\".format(\n",
    "            self.id, self.category, self.title, self.path, self.parent_id\n",
    "        )"
   ]
  },
  {
   "cell_type": "code",
   "execution_count": 6,
   "metadata": {},
   "outputs": [],
   "source": [
    "class File(Base):\n",
    "    __tablename__ = \"file\"\n",
    "\n",
    "    FOLDER ='folder'\n",
    "    FILE='file'\n",
    "\n",
    "    id = Column(Integer, primary_key=True)\n",
    "    name = Column(String)\n",
    "    path = Column(String)\n",
    "    # guid = Column(String)\n",
    "    hash = Column(String)\n",
    "    type = Column(Enum(FOLDER,FILE))\n",
    "    date_modified = Column(DateTime)\n",
    "    osf_id = Column(String)\n",
    "\n",
    "    deleted = Column(Boolean)\n",
    "\n",
    "    user_id = Column(Integer, ForeignKey('user.id'))\n",
    "    node_id = Column(Integer, ForeignKey('node.id'))\n",
    "    parent_id = Column(Integer, ForeignKey('file.id'))\n",
    "    files = relationship(\n",
    "        \"File\",\n",
    "        backref=backref('parent', remote_side=[id]),\n",
    "        # cascade=\"all, delete-orphan\",  #todo: watchdog crawls up so cascade makes things fail on recursive delete. may want to have delete just ignore fails.\n",
    "    )\n",
    "\n",
    "    @hybrid_property\n",
    "    def path(self):\n",
    "        \"\"\"Recursively walk up the path of the file/folder. Top level file/folder joins with the path of the containing node.\n",
    "        \"\"\"\n",
    "        # +os.path.sep+ instead of os.path.join: http://stackoverflow.com/a/14504695\n",
    "        if self.parent:\n",
    "            return os.path.join(self.parent.path, self.name)\n",
    "        else:\n",
    "            return os.path.join(self.node.path ,self.name)\n",
    "\n",
    "    def update_hash(self, blocksize=2**20):\n",
    "        m = hashlib.md5()\n",
    "        if self.type == File.FILE:\n",
    "            with open(self.path,\"rb\") as f:\n",
    "                while True:\n",
    "                    buf = f.read(blocksize)\n",
    "                    if not buf:\n",
    "                        break\n",
    "                    m.update(buf)\n",
    "        else:\n",
    "            pass\n",
    "            #todo: what to do in this case?\n",
    "            # m.update()\n",
    "        self.hash = m.hexdigest()\n",
    "\n",
    "    def update_time(self, dt=None):\n",
    "        if dt:\n",
    "            self.date_modified = dt\n",
    "        else:\n",
    "            self.date_modified = datetime.now()\n",
    "\n",
    "    def __repr__(self):\n",
    "        return \"<File ({}), type={}, name={}, path={}, parent_id={}>\".format(\n",
    "            self.id, self.type, self.name, self.path, self.parent\n",
    "        )"
   ]
  },
  {
   "cell_type": "code",
   "execution_count": 7,
   "metadata": {},
   "outputs": [],
   "source": [
    "engine = create_engine('sqlite:///:memory:', echo=False)\n",
    "Base.metadata.create_all(engine)\n",
    "session_factory = sessionmaker(bind=engine)\n",
    "Session = scoped_session(session_factory)\n",
    "session = Session()"
   ]
  },
  {
   "cell_type": "code",
   "execution_count": 8,
   "metadata": {},
   "outputs": [],
   "source": [
    "#USER\n",
    " # id = Column(Integer, primary_key=True)\n",
    " #     fullname = Column(String)\n",
    " #     osf_login = Column(String)\n",
    " #     osf_password = Column(String)\n",
    " #     osf_path = Column(String)\n",
    " #     oauth_token = Column(String)\n",
    " #     osf_id = Column(String)\n",
    "\n",
    "user = User(fullname=\"Himanshu Ojha\", osf_id=\"himan\", osf_path=\"/home/himanshu/OSF-Offline/dumbdir/\")\n",
    "session.add(user)\n",
    "session.commit()"
   ]
  },
  {
   "cell_type": "code",
   "execution_count": 9,
   "metadata": {},
   "outputs": [],
   "source": [
    "#NODE\n",
    "# id = Column(Integer, primary_key=True)\n",
    "#     title = Column(String)\n",
    "#     path = Column(String)\n",
    "#     hash = Column(String)\n",
    "#     category = Column(Enum(PROJECT, COMPONENT))\n",
    "#     date_modified = Column(DateTime)\n",
    "#     osf_id = Column(String)\n",
    "n1 = Node(title='my project', category=Node.PROJECT)\n",
    "session.add(n1)\n",
    "session.commit()"
   ]
  },
  {
   "cell_type": "code",
   "execution_count": 10,
   "metadata": {},
   "outputs": [],
   "source": [
    "user.nodes.append(n1)"
   ]
  },
  {
   "cell_type": "code",
   "execution_count": 11,
   "metadata": {},
   "outputs": [
    {
     "name": "stdout",
     "output_type": "stream",
     "text": [
      "[<Node (1), category=project, title=my project, path=/home/himanshu/OSF-Offline/dumbdir/my project, parent_id=None>]\n[<Node (1), category=project, title=my project, path=/home/himanshu/OSF-Offline/dumbdir/my project, parent_id=None>]\n[]\n"
     ]
    }
   ],
   "source": [
    "print(user.nodes)\n",
    "print(user.projects)\n",
    "print(user.files)"
   ]
  },
  {
   "cell_type": "code",
   "execution_count": 12,
   "metadata": {},
   "outputs": [],
   "source": [
    "n1.components.append(Node(title='my component', category=Node.COMPONENT))\n",
    "n3 = Node(title='my other component', category=Node.COMPONENT)\n",
    "n1.components.append(n3)\n",
    "session.add(n1)\n",
    "session.commit()"
   ]
  },
  {
   "cell_type": "code",
   "execution_count": 13,
   "metadata": {},
   "outputs": [
    {
     "name": "stdout",
     "output_type": "stream",
     "text": [
      "[<Node (1), category=project, title=my project, path=/home/himanshu/OSF-Offline/dumbdir/my project, parent_id=None>]\n[<Node (1), category=project, title=my project, path=/home/himanshu/OSF-Offline/dumbdir/my project, parent_id=None>]\n[]\n[<Node (2), category=component, title=my component, path=/home/himanshu/OSF-Offline/dumbdir/my project/my component, parent_id=1>, <Node (3), category=component, title=my other component, path=/home/himanshu/OSF-Offline/dumbdir/my project/my other component, parent_id=1>]\n[]\n<User(fullname=Himanshu Ojha, osf_password=None, osf_path=/home/himanshu/OSF-Offline/dumbdir/)>\n"
     ]
    }
   ],
   "source": [
    "print(user.projects)\n",
    "print(user.nodes)\n",
    "print(user.files)\n",
    "\n",
    "print(n1.components)\n",
    "print(n1.files)\n",
    "print(n1.user)"
   ]
  },
  {
   "cell_type": "code",
   "execution_count": 14,
   "metadata": {},
   "outputs": [],
   "source": [
    "session.add(user)\n",
    "session.commit()"
   ]
  },
  {
   "cell_type": "code",
   "execution_count": 15,
   "metadata": {},
   "outputs": [],
   "source": [
    "test2node = Node(title='my project', category=Node.PROJECT, user=user)\n",
    "test3node = Node(title='mycompoent', category=Node.COMPONENT, user=user, parent= test2node)\n",
    "session.add(test2node)\n",
    "session.commit()"
   ]
  },
  {
   "cell_type": "code",
   "execution_count": 16,
   "metadata": {},
   "outputs": [
    {
     "name": "stdout",
     "output_type": "stream",
     "text": [
      "<Node (5), category=component, title=mycompoent, path=/home/himanshu/OSF-Offline/dumbdir/mycompoent, parent_id=None>\n"
     ]
    }
   ],
   "source": [
    "test3node.parent = None\n",
    "session.add(user)\n",
    "session.commit()\n",
    "print(test3node)"
   ]
  },
  {
   "cell_type": "code",
   "execution_count": 17,
   "metadata": {},
   "outputs": [
    {
     "ename": "OperationalError",
     "evalue": "(sqlite3.OperationalError) no such column: node.path [SQL: 'SELECT node.id AS node_id, node.title AS node_title, node.hash AS node_hash, node.category AS node_category, node.date_modified AS node_date_modified, node.osf_id AS node_osf_id, node.deleted AS node_deleted, node.user_id AS node_user_id, node.parent_id AS node_parent_id \\nFROM node \\nWHERE node.path = ?'] [parameters: ('/home/himanshu/OSF-Offline/dumbdir/mycompoent',)]",
     "output_type": "error",
     "traceback": [
      "\u001b[1;31m---------------------------------------------------------------------------\u001b[0m",
      "\u001b[1;31mOperationalError\u001b[0m                          Traceback (most recent call last)",
      "\u001b[1;32m/home/himanshu/Envs/osfoffline/lib/python3.4/site-packages/sqlalchemy/engine/base.py\u001b[0m in \u001b[0;36m_execute_context\u001b[1;34m(self, dialect, constructor, statement, parameters, *args)\u001b[0m\n\u001b[0;32m   1138\u001b[0m                         \u001b[0mparameters\u001b[0m\u001b[1;33m,\u001b[0m\u001b[1;33m\u001b[0m\u001b[0m\n\u001b[1;32m-> 1139\u001b[1;33m                         context)\n\u001b[0m\u001b[0;32m   1140\u001b[0m         \u001b[1;32mexcept\u001b[0m \u001b[0mException\u001b[0m \u001b[1;32mas\u001b[0m \u001b[0me\u001b[0m\u001b[1;33m:\u001b[0m\u001b[1;33m\u001b[0m\u001b[0m\n",
      "\u001b[1;32m/home/himanshu/Envs/osfoffline/lib/python3.4/site-packages/sqlalchemy/engine/default.py\u001b[0m in \u001b[0;36mdo_execute\u001b[1;34m(self, cursor, statement, parameters, context)\u001b[0m\n\u001b[0;32m    449\u001b[0m     \u001b[1;32mdef\u001b[0m \u001b[0mdo_execute\u001b[0m\u001b[1;33m(\u001b[0m\u001b[0mself\u001b[0m\u001b[1;33m,\u001b[0m \u001b[0mcursor\u001b[0m\u001b[1;33m,\u001b[0m \u001b[0mstatement\u001b[0m\u001b[1;33m,\u001b[0m \u001b[0mparameters\u001b[0m\u001b[1;33m,\u001b[0m \u001b[0mcontext\u001b[0m\u001b[1;33m=\u001b[0m\u001b[1;32mNone\u001b[0m\u001b[1;33m)\u001b[0m\u001b[1;33m:\u001b[0m\u001b[1;33m\u001b[0m\u001b[0m\n\u001b[1;32m--> 450\u001b[1;33m         \u001b[0mcursor\u001b[0m\u001b[1;33m.\u001b[0m\u001b[0mexecute\u001b[0m\u001b[1;33m(\u001b[0m\u001b[0mstatement\u001b[0m\u001b[1;33m,\u001b[0m \u001b[0mparameters\u001b[0m\u001b[1;33m)\u001b[0m\u001b[1;33m\u001b[0m\u001b[0m\n\u001b[0m\u001b[0;32m    451\u001b[0m \u001b[1;33m\u001b[0m\u001b[0m\n",
      "\u001b[1;31mOperationalError\u001b[0m: no such column: node.path",
      "\nThe above exception was the direct cause of the following exception:\n",
      "\u001b[1;31mOperationalError\u001b[0m                          Traceback (most recent call last)",
      "\u001b[1;32m<ipython-input-17-7b63aedafc4c>\u001b[0m in \u001b[0;36m<module>\u001b[1;34m()\u001b[0m\n\u001b[1;32m----> 1\u001b[1;33m \u001b[0msession\u001b[0m\u001b[1;33m.\u001b[0m\u001b[0mquery\u001b[0m\u001b[1;33m(\u001b[0m\u001b[0mNode\u001b[0m\u001b[1;33m)\u001b[0m\u001b[1;33m.\u001b[0m\u001b[0mfilter\u001b[0m\u001b[1;33m(\u001b[0m\u001b[0mNode\u001b[0m\u001b[1;33m.\u001b[0m\u001b[0mpath\u001b[0m \u001b[1;33m==\u001b[0m \u001b[1;34m'/home/himanshu/OSF-Offline/dumbdir/mycompoent'\u001b[0m\u001b[1;33m)\u001b[0m\u001b[1;33m.\u001b[0m\u001b[0mall\u001b[0m\u001b[1;33m(\u001b[0m\u001b[1;33m)\u001b[0m\u001b[1;33m\u001b[0m\u001b[0m\n\u001b[0m",
      "\u001b[1;32m/home/himanshu/Envs/osfoffline/lib/python3.4/site-packages/sqlalchemy/orm/query.py\u001b[0m in \u001b[0;36mall\u001b[1;34m(self)\u001b[0m\n\u001b[0;32m   2397\u001b[0m \u001b[1;33m\u001b[0m\u001b[0m\n\u001b[0;32m   2398\u001b[0m         \"\"\"\n\u001b[1;32m-> 2399\u001b[1;33m         \u001b[1;32mreturn\u001b[0m \u001b[0mlist\u001b[0m\u001b[1;33m(\u001b[0m\u001b[0mself\u001b[0m\u001b[1;33m)\u001b[0m\u001b[1;33m\u001b[0m\u001b[0m\n\u001b[0m\u001b[0;32m   2400\u001b[0m \u001b[1;33m\u001b[0m\u001b[0m\n\u001b[0;32m   2401\u001b[0m     \u001b[1;33m@\u001b[0m\u001b[0m_generative\u001b[0m\u001b[1;33m(\u001b[0m\u001b[0m_no_clauseelement_condition\u001b[0m\u001b[1;33m)\u001b[0m\u001b[1;33m\u001b[0m\u001b[0m\n",
      "\u001b[1;32m/home/himanshu/Envs/osfoffline/lib/python3.4/site-packages/sqlalchemy/orm/query.py\u001b[0m in \u001b[0;36m__iter__\u001b[1;34m(self)\u001b[0m\n\u001b[0;32m   2514\u001b[0m         \u001b[1;32mif\u001b[0m \u001b[0mself\u001b[0m\u001b[1;33m.\u001b[0m\u001b[0m_autoflush\u001b[0m \u001b[1;32mand\u001b[0m \u001b[1;32mnot\u001b[0m \u001b[0mself\u001b[0m\u001b[1;33m.\u001b[0m\u001b[0m_populate_existing\u001b[0m\u001b[1;33m:\u001b[0m\u001b[1;33m\u001b[0m\u001b[0m\n\u001b[0;32m   2515\u001b[0m             \u001b[0mself\u001b[0m\u001b[1;33m.\u001b[0m\u001b[0msession\u001b[0m\u001b[1;33m.\u001b[0m\u001b[0m_autoflush\u001b[0m\u001b[1;33m(\u001b[0m\u001b[1;33m)\u001b[0m\u001b[1;33m\u001b[0m\u001b[0m\n\u001b[1;32m-> 2516\u001b[1;33m         \u001b[1;32mreturn\u001b[0m \u001b[0mself\u001b[0m\u001b[1;33m.\u001b[0m\u001b[0m_execute_and_instances\u001b[0m\u001b[1;33m(\u001b[0m\u001b[0mcontext\u001b[0m\u001b[1;33m)\u001b[0m\u001b[1;33m\u001b[0m\u001b[0m\n\u001b[0m\u001b[0;32m   2517\u001b[0m \u001b[1;33m\u001b[0m\u001b[0m\n\u001b[0;32m   2518\u001b[0m     \u001b[1;32mdef\u001b[0m \u001b[0m_connection_from_session\u001b[0m\u001b[1;33m(\u001b[0m\u001b[0mself\u001b[0m\u001b[1;33m,\u001b[0m \u001b[1;33m**\u001b[0m\u001b[0mkw\u001b[0m\u001b[1;33m)\u001b[0m\u001b[1;33m:\u001b[0m\u001b[1;33m\u001b[0m\u001b[0m\n",
      "\u001b[1;32m/home/himanshu/Envs/osfoffline/lib/python3.4/site-packages/sqlalchemy/orm/query.py\u001b[0m in \u001b[0;36m_execute_and_instances\u001b[1;34m(self, querycontext)\u001b[0m\n\u001b[0;32m   2529\u001b[0m             close_with_result=True)\n\u001b[0;32m   2530\u001b[0m \u001b[1;33m\u001b[0m\u001b[0m\n\u001b[1;32m-> 2531\u001b[1;33m         \u001b[0mresult\u001b[0m \u001b[1;33m=\u001b[0m \u001b[0mconn\u001b[0m\u001b[1;33m.\u001b[0m\u001b[0mexecute\u001b[0m\u001b[1;33m(\u001b[0m\u001b[0mquerycontext\u001b[0m\u001b[1;33m.\u001b[0m\u001b[0mstatement\u001b[0m\u001b[1;33m,\u001b[0m \u001b[0mself\u001b[0m\u001b[1;33m.\u001b[0m\u001b[0m_params\u001b[0m\u001b[1;33m)\u001b[0m\u001b[1;33m\u001b[0m\u001b[0m\n\u001b[0m\u001b[0;32m   2532\u001b[0m         \u001b[1;32mreturn\u001b[0m \u001b[0mloading\u001b[0m\u001b[1;33m.\u001b[0m\u001b[0minstances\u001b[0m\u001b[1;33m(\u001b[0m\u001b[0mquerycontext\u001b[0m\u001b[1;33m.\u001b[0m\u001b[0mquery\u001b[0m\u001b[1;33m,\u001b[0m \u001b[0mresult\u001b[0m\u001b[1;33m,\u001b[0m \u001b[0mquerycontext\u001b[0m\u001b[1;33m)\u001b[0m\u001b[1;33m\u001b[0m\u001b[0m\n\u001b[0;32m   2533\u001b[0m \u001b[1;33m\u001b[0m\u001b[0m\n",
      "\u001b[1;32m/home/himanshu/Envs/osfoffline/lib/python3.4/site-packages/sqlalchemy/engine/base.py\u001b[0m in \u001b[0;36mexecute\u001b[1;34m(self, object, *multiparams, **params)\u001b[0m\n\u001b[0;32m    912\u001b[0m                 type(object))\n\u001b[0;32m    913\u001b[0m         \u001b[1;32melse\u001b[0m\u001b[1;33m:\u001b[0m\u001b[1;33m\u001b[0m\u001b[0m\n\u001b[1;32m--> 914\u001b[1;33m             \u001b[1;32mreturn\u001b[0m \u001b[0mmeth\u001b[0m\u001b[1;33m(\u001b[0m\u001b[0mself\u001b[0m\u001b[1;33m,\u001b[0m \u001b[0mmultiparams\u001b[0m\u001b[1;33m,\u001b[0m \u001b[0mparams\u001b[0m\u001b[1;33m)\u001b[0m\u001b[1;33m\u001b[0m\u001b[0m\n\u001b[0m\u001b[0;32m    915\u001b[0m \u001b[1;33m\u001b[0m\u001b[0m\n\u001b[0;32m    916\u001b[0m     \u001b[1;32mdef\u001b[0m \u001b[0m_execute_function\u001b[0m\u001b[1;33m(\u001b[0m\u001b[0mself\u001b[0m\u001b[1;33m,\u001b[0m \u001b[0mfunc\u001b[0m\u001b[1;33m,\u001b[0m \u001b[0mmultiparams\u001b[0m\u001b[1;33m,\u001b[0m \u001b[0mparams\u001b[0m\u001b[1;33m)\u001b[0m\u001b[1;33m:\u001b[0m\u001b[1;33m\u001b[0m\u001b[0m\n",
      "\u001b[1;32m/home/himanshu/Envs/osfoffline/lib/python3.4/site-packages/sqlalchemy/sql/elements.py\u001b[0m in \u001b[0;36m_execute_on_connection\u001b[1;34m(self, connection, multiparams, params)\u001b[0m\n\u001b[0;32m    321\u001b[0m \u001b[1;33m\u001b[0m\u001b[0m\n\u001b[0;32m    322\u001b[0m     \u001b[1;32mdef\u001b[0m \u001b[0m_execute_on_connection\u001b[0m\u001b[1;33m(\u001b[0m\u001b[0mself\u001b[0m\u001b[1;33m,\u001b[0m \u001b[0mconnection\u001b[0m\u001b[1;33m,\u001b[0m \u001b[0mmultiparams\u001b[0m\u001b[1;33m,\u001b[0m \u001b[0mparams\u001b[0m\u001b[1;33m)\u001b[0m\u001b[1;33m:\u001b[0m\u001b[1;33m\u001b[0m\u001b[0m\n\u001b[1;32m--> 323\u001b[1;33m         \u001b[1;32mreturn\u001b[0m \u001b[0mconnection\u001b[0m\u001b[1;33m.\u001b[0m\u001b[0m_execute_clauseelement\u001b[0m\u001b[1;33m(\u001b[0m\u001b[0mself\u001b[0m\u001b[1;33m,\u001b[0m \u001b[0mmultiparams\u001b[0m\u001b[1;33m,\u001b[0m \u001b[0mparams\u001b[0m\u001b[1;33m)\u001b[0m\u001b[1;33m\u001b[0m\u001b[0m\n\u001b[0m\u001b[0;32m    324\u001b[0m \u001b[1;33m\u001b[0m\u001b[0m\n\u001b[0;32m    325\u001b[0m     \u001b[1;32mdef\u001b[0m \u001b[0munique_params\u001b[0m\u001b[1;33m(\u001b[0m\u001b[0mself\u001b[0m\u001b[1;33m,\u001b[0m \u001b[1;33m*\u001b[0m\u001b[0moptionaldict\u001b[0m\u001b[1;33m,\u001b[0m \u001b[1;33m**\u001b[0m\u001b[0mkwargs\u001b[0m\u001b[1;33m)\u001b[0m\u001b[1;33m:\u001b[0m\u001b[1;33m\u001b[0m\u001b[0m\n",
      "\u001b[1;32m/home/himanshu/Envs/osfoffline/lib/python3.4/site-packages/sqlalchemy/engine/base.py\u001b[0m in \u001b[0;36m_execute_clauseelement\u001b[1;34m(self, elem, multiparams, params)\u001b[0m\n\u001b[0;32m   1008\u001b[0m             \u001b[0mcompiled_sql\u001b[0m\u001b[1;33m,\u001b[0m\u001b[1;33m\u001b[0m\u001b[0m\n\u001b[0;32m   1009\u001b[0m             \u001b[0mdistilled_params\u001b[0m\u001b[1;33m,\u001b[0m\u001b[1;33m\u001b[0m\u001b[0m\n\u001b[1;32m-> 1010\u001b[1;33m             \u001b[0mcompiled_sql\u001b[0m\u001b[1;33m,\u001b[0m \u001b[0mdistilled_params\u001b[0m\u001b[1;33m\u001b[0m\u001b[0m\n\u001b[0m\u001b[0;32m   1011\u001b[0m         )\n\u001b[0;32m   1012\u001b[0m         \u001b[1;32mif\u001b[0m \u001b[0mself\u001b[0m\u001b[1;33m.\u001b[0m\u001b[0m_has_events\u001b[0m \u001b[1;32mor\u001b[0m \u001b[0mself\u001b[0m\u001b[1;33m.\u001b[0m\u001b[0mengine\u001b[0m\u001b[1;33m.\u001b[0m\u001b[0m_has_events\u001b[0m\u001b[1;33m:\u001b[0m\u001b[1;33m\u001b[0m\u001b[0m\n",
      "\u001b[1;32m/home/himanshu/Envs/osfoffline/lib/python3.4/site-packages/sqlalchemy/engine/base.py\u001b[0m in \u001b[0;36m_execute_context\u001b[1;34m(self, dialect, constructor, statement, parameters, *args)\u001b[0m\n\u001b[0;32m   1144\u001b[0m                 \u001b[0mparameters\u001b[0m\u001b[1;33m,\u001b[0m\u001b[1;33m\u001b[0m\u001b[0m\n\u001b[0;32m   1145\u001b[0m                 \u001b[0mcursor\u001b[0m\u001b[1;33m,\u001b[0m\u001b[1;33m\u001b[0m\u001b[0m\n\u001b[1;32m-> 1146\u001b[1;33m                 context)\n\u001b[0m\u001b[0;32m   1147\u001b[0m \u001b[1;33m\u001b[0m\u001b[0m\n\u001b[0;32m   1148\u001b[0m         \u001b[1;32mif\u001b[0m \u001b[0mself\u001b[0m\u001b[1;33m.\u001b[0m\u001b[0m_has_events\u001b[0m \u001b[1;32mor\u001b[0m \u001b[0mself\u001b[0m\u001b[1;33m.\u001b[0m\u001b[0mengine\u001b[0m\u001b[1;33m.\u001b[0m\u001b[0m_has_events\u001b[0m\u001b[1;33m:\u001b[0m\u001b[1;33m\u001b[0m\u001b[0m\n",
      "\u001b[1;32m/home/himanshu/Envs/osfoffline/lib/python3.4/site-packages/sqlalchemy/engine/base.py\u001b[0m in \u001b[0;36m_handle_dbapi_exception\u001b[1;34m(self, e, statement, parameters, cursor, context)\u001b[0m\n\u001b[0;32m   1339\u001b[0m                 util.raise_from_cause(\n\u001b[0;32m   1340\u001b[0m                     \u001b[0msqlalchemy_exception\u001b[0m\u001b[1;33m,\u001b[0m\u001b[1;33m\u001b[0m\u001b[0m\n\u001b[1;32m-> 1341\u001b[1;33m                     \u001b[0mexc_info\u001b[0m\u001b[1;33m\u001b[0m\u001b[0m\n\u001b[0m\u001b[0;32m   1342\u001b[0m                 )\n\u001b[0;32m   1343\u001b[0m             \u001b[1;32melse\u001b[0m\u001b[1;33m:\u001b[0m\u001b[1;33m\u001b[0m\u001b[0m\n",
      "\u001b[1;32m/home/himanshu/Envs/osfoffline/lib/python3.4/site-packages/sqlalchemy/util/compat.py\u001b[0m in \u001b[0;36mraise_from_cause\u001b[1;34m(exception, exc_info)\u001b[0m\n\u001b[0;32m    186\u001b[0m             \u001b[0mexc_info\u001b[0m \u001b[1;33m=\u001b[0m \u001b[0msys\u001b[0m\u001b[1;33m.\u001b[0m\u001b[0mexc_info\u001b[0m\u001b[1;33m(\u001b[0m\u001b[1;33m)\u001b[0m\u001b[1;33m\u001b[0m\u001b[0m\n\u001b[0;32m    187\u001b[0m         \u001b[0mexc_type\u001b[0m\u001b[1;33m,\u001b[0m \u001b[0mexc_value\u001b[0m\u001b[1;33m,\u001b[0m \u001b[0mexc_tb\u001b[0m \u001b[1;33m=\u001b[0m \u001b[0mexc_info\u001b[0m\u001b[1;33m\u001b[0m\u001b[0m\n\u001b[1;32m--> 188\u001b[1;33m         \u001b[0mreraise\u001b[0m\u001b[1;33m(\u001b[0m\u001b[0mtype\u001b[0m\u001b[1;33m(\u001b[0m\u001b[0mexception\u001b[0m\u001b[1;33m)\u001b[0m\u001b[1;33m,\u001b[0m \u001b[0mexception\u001b[0m\u001b[1;33m,\u001b[0m \u001b[0mtb\u001b[0m\u001b[1;33m=\u001b[0m\u001b[0mexc_tb\u001b[0m\u001b[1;33m,\u001b[0m \u001b[0mcause\u001b[0m\u001b[1;33m=\u001b[0m\u001b[0mexc_value\u001b[0m\u001b[1;33m)\u001b[0m\u001b[1;33m\u001b[0m\u001b[0m\n\u001b[0m\u001b[0;32m    189\u001b[0m \u001b[1;32melse\u001b[0m\u001b[1;33m:\u001b[0m\u001b[1;33m\u001b[0m\u001b[0m\n\u001b[0;32m    190\u001b[0m     exec(\"def reraise(tp, value, tb=None, cause=None):\\n\"\n",
      "\u001b[1;32m/home/himanshu/Envs/osfoffline/lib/python3.4/site-packages/sqlalchemy/util/compat.py\u001b[0m in \u001b[0;36mreraise\u001b[1;34m(tp, value, tb, cause)\u001b[0m\n\u001b[0;32m    179\u001b[0m             \u001b[0mvalue\u001b[0m\u001b[1;33m.\u001b[0m\u001b[0m__cause__\u001b[0m \u001b[1;33m=\u001b[0m \u001b[0mcause\u001b[0m\u001b[1;33m\u001b[0m\u001b[0m\n\u001b[0;32m    180\u001b[0m         \u001b[1;32mif\u001b[0m \u001b[0mvalue\u001b[0m\u001b[1;33m.\u001b[0m\u001b[0m__traceback__\u001b[0m \u001b[1;32mis\u001b[0m \u001b[1;32mnot\u001b[0m \u001b[0mtb\u001b[0m\u001b[1;33m:\u001b[0m\u001b[1;33m\u001b[0m\u001b[0m\n\u001b[1;32m--> 181\u001b[1;33m             \u001b[1;32mraise\u001b[0m \u001b[0mvalue\u001b[0m\u001b[1;33m.\u001b[0m\u001b[0mwith_traceback\u001b[0m\u001b[1;33m(\u001b[0m\u001b[0mtb\u001b[0m\u001b[1;33m)\u001b[0m\u001b[1;33m\u001b[0m\u001b[0m\n\u001b[0m\u001b[0;32m    182\u001b[0m         \u001b[1;32mraise\u001b[0m \u001b[0mvalue\u001b[0m\u001b[1;33m\u001b[0m\u001b[0m\n\u001b[0;32m    183\u001b[0m \u001b[1;33m\u001b[0m\u001b[0m\n",
      "\u001b[1;32m/home/himanshu/Envs/osfoffline/lib/python3.4/site-packages/sqlalchemy/engine/base.py\u001b[0m in \u001b[0;36m_execute_context\u001b[1;34m(self, dialect, constructor, statement, parameters, *args)\u001b[0m\n\u001b[0;32m   1137\u001b[0m                         \u001b[0mstatement\u001b[0m\u001b[1;33m,\u001b[0m\u001b[1;33m\u001b[0m\u001b[0m\n\u001b[0;32m   1138\u001b[0m                         \u001b[0mparameters\u001b[0m\u001b[1;33m,\u001b[0m\u001b[1;33m\u001b[0m\u001b[0m\n\u001b[1;32m-> 1139\u001b[1;33m                         context)\n\u001b[0m\u001b[0;32m   1140\u001b[0m         \u001b[1;32mexcept\u001b[0m \u001b[0mException\u001b[0m \u001b[1;32mas\u001b[0m \u001b[0me\u001b[0m\u001b[1;33m:\u001b[0m\u001b[1;33m\u001b[0m\u001b[0m\n\u001b[0;32m   1141\u001b[0m             self._handle_dbapi_exception(\n",
      "\u001b[1;32m/home/himanshu/Envs/osfoffline/lib/python3.4/site-packages/sqlalchemy/engine/default.py\u001b[0m in \u001b[0;36mdo_execute\u001b[1;34m(self, cursor, statement, parameters, context)\u001b[0m\n\u001b[0;32m    448\u001b[0m \u001b[1;33m\u001b[0m\u001b[0m\n\u001b[0;32m    449\u001b[0m     \u001b[1;32mdef\u001b[0m \u001b[0mdo_execute\u001b[0m\u001b[1;33m(\u001b[0m\u001b[0mself\u001b[0m\u001b[1;33m,\u001b[0m \u001b[0mcursor\u001b[0m\u001b[1;33m,\u001b[0m \u001b[0mstatement\u001b[0m\u001b[1;33m,\u001b[0m \u001b[0mparameters\u001b[0m\u001b[1;33m,\u001b[0m \u001b[0mcontext\u001b[0m\u001b[1;33m=\u001b[0m\u001b[1;32mNone\u001b[0m\u001b[1;33m)\u001b[0m\u001b[1;33m:\u001b[0m\u001b[1;33m\u001b[0m\u001b[0m\n\u001b[1;32m--> 450\u001b[1;33m         \u001b[0mcursor\u001b[0m\u001b[1;33m.\u001b[0m\u001b[0mexecute\u001b[0m\u001b[1;33m(\u001b[0m\u001b[0mstatement\u001b[0m\u001b[1;33m,\u001b[0m \u001b[0mparameters\u001b[0m\u001b[1;33m)\u001b[0m\u001b[1;33m\u001b[0m\u001b[0m\n\u001b[0m\u001b[0;32m    451\u001b[0m \u001b[1;33m\u001b[0m\u001b[0m\n\u001b[0;32m    452\u001b[0m     \u001b[1;32mdef\u001b[0m \u001b[0mdo_execute_no_params\u001b[0m\u001b[1;33m(\u001b[0m\u001b[0mself\u001b[0m\u001b[1;33m,\u001b[0m \u001b[0mcursor\u001b[0m\u001b[1;33m,\u001b[0m \u001b[0mstatement\u001b[0m\u001b[1;33m,\u001b[0m \u001b[0mcontext\u001b[0m\u001b[1;33m=\u001b[0m\u001b[1;32mNone\u001b[0m\u001b[1;33m)\u001b[0m\u001b[1;33m:\u001b[0m\u001b[1;33m\u001b[0m\u001b[0m\n",
      "\u001b[1;31mOperationalError\u001b[0m: (sqlite3.OperationalError) no such column: node.path [SQL: 'SELECT node.id AS node_id, node.title AS node_title, node.hash AS node_hash, node.category AS node_category, node.date_modified AS node_date_modified, node.osf_id AS node_osf_id, node.deleted AS node_deleted, node.user_id AS node_user_id, node.parent_id AS node_parent_id \\nFROM node \\nWHERE node.path = ?'] [parameters: ('/home/himanshu/OSF-Offline/dumbdir/mycompoent',)]"
     ]
    }
   ],
   "source": [
    "session.query(Node).filter(Node.path == '/home/himanshu/OSF-Offline/dumbdir/mycompoent').all()"
   ]
  },
  {
   "cell_type": "code",
   "execution_count": null,
   "metadata": {},
   "outputs": [],
   "source": [
    ""
   ]
  }
 ],
 "metadata": {
  "kernelspec": {
   "display_name": "Python 3",
   "language": "python",
   "name": "python3"
  },
  "language_info": {
   "codemirror_mode": {
    "name": "ipython",
    "version": 3.0
   },
   "file_extension": ".py",
   "mimetype": "text/x-python",
   "name": "python",
   "nbconvert_exporter": "python",
   "pygments_lexer": "ipython3",
   "version": "3.4.2"
  }
 },
 "nbformat": 4,
 "nbformat_minor": 0
}