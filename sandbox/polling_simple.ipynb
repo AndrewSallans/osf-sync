{
 "cells": [
  {
   "cell_type": "code",
   "execution_count": null,
   "metadata": {
    "collapsed": true
   },
   "outputs": [],
   "source": [
    "import requests"
   ]
  },
  {
   "cell_type": "code",
   "execution_count": 19,
   "metadata": {
    "collapsed": false
   },
   "outputs": [
    {
     "data": {
      "text/plain": [
       "{'date_registered': '2015-02-03T15:38:29.024000',\n",
       " 'educational_institutions': [],\n",
       " 'employment_institutions': [],\n",
       " 'family_name': 'Ojha',\n",
       " 'fullname': 'Himanshu Ojha',\n",
       " 'given_name': 'Himanshu',\n",
       " 'gravatar_url': 'https://secure.gravatar.com/avatar/bbb26cc80350f8e4ae6cbff9c7fd1abd?d=identicon&size=40',\n",
       " 'id': 'gpr3h',\n",
       " 'links': {'html': 'https://staging2.osf.io/gpr3h/',\n",
       "  'nodes': {'relation': 'https://staging2.osf.io/api/v2/users/gpr3h/nodes/'},\n",
       "  'self': 'https://staging2.osf.io/api/v2/users/gpr3h/'},\n",
       " 'middle_name': 'rock',\n",
       " 'social_accounts': {},\n",
       " 'suffix': '',\n",
       " 'type': 'users'}"
      ]
     },
     "execution_count": 19,
     "metadata": {},
     "output_type": "execute_result"
    }
   ],
   "source": [
    "user = requests.get('https://staging2.osf.io:443/api/v2/users/?filter[family_name]=ojha').json()['data'][0] \n",
    "user"
   ]
  },
  {
   "cell_type": "code",
   "execution_count": 23,
   "metadata": {
    "collapsed": false
   },
   "outputs": [
    {
     "data": {
      "text/plain": [
       "{'category': 'project',\n",
       " 'date_created': '2015-06-16T14:12:21.484000',\n",
       " 'date_modified': '2015-06-16T14:31:43.986000',\n",
       " 'description': 'polling the api for project and component changes',\n",
       " 'id': 'zexc9',\n",
       " 'links': {'children': {'count': 0,\n",
       "   'related': 'https://staging2.osf.io/api/v2/nodes/zexc9/children/'},\n",
       "  'contributors': {'count': 1,\n",
       "   'related': 'https://staging2.osf.io/api/v2/nodes/zexc9/contributors/'},\n",
       "  'files': {'related': 'https://staging2.osf.io/api/v2/nodes/zexc9/files/'},\n",
       "  'html': 'https://staging2.osf.io/zexc9/',\n",
       "  'pointers': {'count': 0,\n",
       "   'related': 'https://staging2.osf.io/api/v2/nodes/zexc9/pointers/'},\n",
       "  'registrations': {'count': 0,\n",
       "   'related': 'https://staging2.osf.io/api/v2/nodes/zexc9/registrations/'},\n",
       "  'self': 'https://staging2.osf.io/api/v2/nodes/zexc9/'},\n",
       " 'properties': {'collection': False,\n",
       "  'dashboard': False,\n",
       "  'registration': False},\n",
       " 'public': True,\n",
       " 'tags': {'system': [], 'user': []},\n",
       " 'title': 'poll',\n",
       " 'type': 'nodes'}"
      ]
     },
     "execution_count": 23,
     "metadata": {},
     "output_type": "execute_result"
    }
   ],
   "source": [
    "user_id = 'gpr3h'\n",
    "projects = requests.get('https://staging2.osf.io:443/api/v2/users/{}/nodes/?filter[category]=project'.format(user_id))\n",
    "myproject = projects.json()['data'][1]\n",
    "myproject"
   ]
  },
  {
   "cell_type": "code",
   "execution_count": 33,
   "metadata": {
    "collapsed": false
   },
   "outputs": [
    {
     "name": "stdout",
     "output_type": "stream",
     "text": [
      "folder!\n",
      "{'provider': 'osfstorage', 'item_type': 'folder', 'name': 'osfstorage', 'path': '/', 'metadata': {}, 'type': 'files', 'links': {'self_methods': [], 'related': 'https://staging2.osf.io/api/v2/nodes/zexc9/files/?path=%2F&provider=osfstorage', 'self': 'https://files-api-staging2.osf.io/file?path=/&nid=zexc9&provider=osfstorage'}}\n"
     ]
    }
   ],
   "source": [
    "# files = requests.get(myproject['links']['files']['related']) #has both folders and files\n",
    "\n",
    "def check_component(component):\n",
    "    files_folders = requests.get(component['links']['files']['related']).json()['data']\n",
    "    for file_folder in files_folders:\n",
    "        if file_folder['item_type']=='folder':\n",
    "            print('folder!')\n",
    "        elif file_folder['item_type']=='file':\n",
    "            \n",
    "        print(file_folder)\n",
    "        \n",
    "check_component(myproject)"
   ]
  },
  {
   "cell_type": "code",
   "execution_count": null,
   "metadata": {
    "collapsed": true
   },
   "outputs": [],
   "source": [
    "import hashlib\n",
    " \n",
    "hasher = hashlib.md5()\n",
    "with open('myfile.jpg', 'rb') as afile:\n",
    "    buf = afile.read()\n",
    "    hasher.update(buf)\n",
    "print(hasher.hexdigest())"
   ]
  }
 ],
 "metadata": {
  "kernelspec": {
   "display_name": "Python 3",
   "language": "python",
   "name": "python3"
  },
  "language_info": {
   "codemirror_mode": {
    "name": "ipython",
    "version": 3
   },
   "file_extension": ".py",
   "mimetype": "text/x-python",
   "name": "python",
   "nbconvert_exporter": "python",
   "pygments_lexer": "ipython3",
   "version": "3.4.2"
  }
 },
 "nbformat": 4,
 "nbformat_minor": 0
}
