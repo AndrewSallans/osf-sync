{
 "cells": [
  {
   "cell_type": "code",
   "execution_count": 7,
   "metadata": {},
   "outputs": [],
   "source": [
    "import requests\n",
    "import hashlib\n",
    "from ProjectTree.ProjectTree import ProjectTree\n",
    "import os"
   ]
  },
  {
   "cell_type": "code",
   "execution_count": 3,
   "metadata": {},
   "outputs": [
    {
     "data": {
      "text/plain": [
       "{'date_registered': '2015-02-03T15:38:29.024000',\n 'educational_institutions': [],\n 'employment_institutions': [],\n 'family_name': 'Ojha',\n 'fullname': 'Himanshu Ojha',\n 'given_name': 'Himanshu',\n 'gravatar_url': 'https://secure.gravatar.com/avatar/bbb26cc80350f8e4ae6cbff9c7fd1abd?d=identicon&size=40',\n 'id': 'gpr3h',\n 'links': {'html': 'https://staging2.osf.io/gpr3h/',\n  'nodes': {'relation': 'https://staging2.osf.io/api/v2/users/gpr3h/nodes/'},\n  'self': 'https://staging2.osf.io/api/v2/users/gpr3h/'},\n 'middle_name': 'rock',\n 'social_accounts': {},\n 'suffix': '',\n 'type': 'users'}"
      ]
     },
     "execution_count": 3,
     "output_type": "execute_result",
     "metadata": {}
    }
   ],
   "source": [
    "user = requests.get('https://staging2.osf.io:443/api/v2/users/?filter[family_name]=ojha').json()['data'][0] \n",
    "user"
   ]
  },
  {
   "cell_type": "code",
   "execution_count": 5,
   "metadata": {},
   "outputs": [
    {
     "data": {
      "text/plain": [
       "{'category': 'project',\n 'date_created': '2015-06-16T14:12:21.484000',\n 'date_modified': '2015-06-17T21:03:33.557000',\n 'description': 'polling the api for project and component changes',\n 'id': 'zexc9',\n 'links': {'children': {'count': 0,\n   'related': 'https://staging2.osf.io/api/v2/nodes/zexc9/children/'},\n  'contributors': {'count': 1,\n   'related': 'https://staging2.osf.io/api/v2/nodes/zexc9/contributors/'},\n  'files': {'related': 'https://staging2.osf.io/api/v2/nodes/zexc9/files/'},\n  'html': 'https://staging2.osf.io/zexc9/',\n  'pointers': {'count': 0,\n   'related': 'https://staging2.osf.io/api/v2/nodes/zexc9/pointers/'},\n  'registrations': {'count': 0,\n   'related': 'https://staging2.osf.io/api/v2/nodes/zexc9/registrations/'},\n  'self': 'https://staging2.osf.io/api/v2/nodes/zexc9/'},\n 'properties': {'collection': False,\n  'dashboard': False,\n  'registration': False},\n 'public': True,\n 'tags': {'system': [], 'user': []},\n 'title': 'poll',\n 'type': 'nodes'}"
      ]
     },
     "execution_count": 5,
     "output_type": "execute_result",
     "metadata": {}
    }
   ],
   "source": [
    "user_id = 'gpr3h'\n",
    "projects = requests.get('https://staging2.osf.io:443/api/v2/users/{}/nodes/?filter[category]=project'.format(user_id))\n",
    "myproject = projects.json()['data'][1]\n",
    "myproject"
   ]
  },
  {
   "cell_type": "code",
   "execution_count": null,
   "metadata": {},
   "outputs": [],
   "source": [
    "def check_file_changed(local_item, server_response):\n",
    "    #generate md5 for server response file\n",
    "    hasher = hashlib.md5()\n",
    "    with open('/home/himanshu/OSF-Offline/sandbox/some_file.txt', 'rb') as afile:\n",
    "        buf = afile.read()\n",
    "        hasher.update(buf)\n",
    "    local_hash = \n",
    "    print(hasher.hexdigest())"
   ]
  },
  {
   "cell_type": "code",
   "execution_count": 9,
   "metadata": {},
   "outputs": [
    {
     "name": "stdout",
     "output_type": "stream",
     "text": [
      "folder!\nfile!"
     ]
    },
    {
     "name": "stdout",
     "output_type": "stream",
     "text": [
      "\nfile SHOULD now be on local storage."
     ]
    },
    {
     "name": "stdout",
     "output_type": "stream",
     "text": [
      "\nfile!\nfile SHOULD now be on local storage."
     ]
    },
    {
     "name": "stdout",
     "output_type": "stream",
     "text": [
      "\nfile!\nfile SHOULD now be on local storage."
     ]
    },
    {
     "name": "stdout",
     "output_type": "stream",
     "text": [
      "\nfile!\nfile SHOULD now be on local storage."
     ]
    },
    {
     "name": "stdout",
     "output_type": "stream",
     "text": [
      "\nfile!\nfile SHOULD now be on local storage."
     ]
    },
    {
     "name": "stdout",
     "output_type": "stream",
     "text": [
      "\nfile!\nfile SHOULD now be on local storage."
     ]
    },
    {
     "name": "stdout",
     "output_type": "stream",
     "text": [
      "\nfolder!\nfile!"
     ]
    },
    {
     "name": "stdout",
     "output_type": "stream",
     "text": [
      "\nfile SHOULD now be on local storage."
     ]
    },
    {
     "name": "stdout",
     "output_type": "stream",
     "text": [
      "\nfolder!\n"
     ]
    },
    {
     "ename": "FileExistsError",
     "evalue": "[Errno 17] File exists: '/home/himanshu/OSF-Offline/sandbox/osfstorage/list of classes to take~'",
     "output_type": "error",
     "traceback": [
      "\u001b[1;31m---------------------------------------------------------------------------\u001b[0m",
      "\u001b[1;31mFileExistsError\u001b[0m                           Traceback (most recent call last)",
      "\u001b[1;32m<ipython-input-9-a86aa22eb9b8>\u001b[0m in \u001b[0;36m<module>\u001b[1;34m()\u001b[0m\n\u001b[0;32m     35\u001b[0m \u001b[1;33m\u001b[0m\u001b[0m\n\u001b[0;32m     36\u001b[0m \u001b[1;33m\u001b[0m\u001b[0m\n\u001b[1;32m---> 37\u001b[1;33m \u001b[0mcheck_component\u001b[0m\u001b[1;33m(\u001b[0m\u001b[0mmyproject\u001b[0m\u001b[1;33m)\u001b[0m\u001b[1;33m\u001b[0m\u001b[0m\n\u001b[0m",
      "\u001b[1;32m<ipython-input-9-a86aa22eb9b8>\u001b[0m in \u001b[0;36mcheck_component\u001b[1;34m(component)\u001b[0m\n\u001b[0;32m     22\u001b[0m     \u001b[0mfiles_folders\u001b[0m \u001b[1;33m=\u001b[0m \u001b[0mrequests\u001b[0m\u001b[1;33m.\u001b[0m\u001b[0mget\u001b[0m\u001b[1;33m(\u001b[0m\u001b[0mcomponent\u001b[0m\u001b[1;33m[\u001b[0m\u001b[1;34m'links'\u001b[0m\u001b[1;33m]\u001b[0m\u001b[1;33m[\u001b[0m\u001b[1;34m'files'\u001b[0m\u001b[1;33m]\u001b[0m\u001b[1;33m[\u001b[0m\u001b[1;34m'related'\u001b[0m\u001b[1;33m]\u001b[0m\u001b[1;33m)\u001b[0m\u001b[1;33m.\u001b[0m\u001b[0mjson\u001b[0m\u001b[1;33m(\u001b[0m\u001b[1;33m)\u001b[0m\u001b[1;33m[\u001b[0m\u001b[1;34m'data'\u001b[0m\u001b[1;33m]\u001b[0m\u001b[1;33m\u001b[0m\u001b[0m\n\u001b[0;32m     23\u001b[0m     \u001b[1;32mfor\u001b[0m \u001b[0mfile_folder\u001b[0m \u001b[1;32min\u001b[0m \u001b[0mfiles_folders\u001b[0m\u001b[1;33m:\u001b[0m\u001b[1;33m\u001b[0m\u001b[0m\n\u001b[1;32m---> 24\u001b[1;33m         \u001b[0mcheck_file_folder\u001b[0m\u001b[1;33m(\u001b[0m\u001b[0mfile_folder\u001b[0m\u001b[1;33m)\u001b[0m\u001b[1;33m\u001b[0m\u001b[0m\n\u001b[0m\u001b[0;32m     25\u001b[0m     \u001b[0mprint\u001b[0m\u001b[1;33m(\u001b[0m\u001b[0mfile_folder\u001b[0m\u001b[1;33m)\u001b[0m\u001b[1;33m\u001b[0m\u001b[0m\n\u001b[0;32m     26\u001b[0m \u001b[1;33m\u001b[0m\u001b[0m\n",
      "\u001b[1;32m<ipython-input-9-a86aa22eb9b8>\u001b[0m in \u001b[0;36mcheck_file_folder\u001b[1;34m(file_folder)\u001b[0m\n\u001b[0;32m      8\u001b[0m             \u001b[0mos\u001b[0m\u001b[1;33m.\u001b[0m\u001b[0mmakedirs\u001b[0m\u001b[1;33m(\u001b[0m\u001b[1;34m'/home/himanshu/OSF-Offline/sandbox/osfstorage/{}'\u001b[0m\u001b[1;33m.\u001b[0m\u001b[0mformat\u001b[0m\u001b[1;33m(\u001b[0m\u001b[0mfile_folder\u001b[0m\u001b[1;33m[\u001b[0m\u001b[1;34m'name'\u001b[0m\u001b[1;33m]\u001b[0m\u001b[1;33m)\u001b[0m\u001b[1;33m)\u001b[0m\u001b[1;33m\u001b[0m\u001b[0m\n\u001b[0;32m      9\u001b[0m         \u001b[1;32mfor\u001b[0m \u001b[0minner\u001b[0m \u001b[1;32min\u001b[0m \u001b[0mfolder\u001b[0m\u001b[1;33m:\u001b[0m\u001b[1;33m\u001b[0m\u001b[0m\n\u001b[1;32m---> 10\u001b[1;33m             \u001b[0mcheck_file_folder\u001b[0m\u001b[1;33m(\u001b[0m\u001b[0minner\u001b[0m\u001b[1;33m)\u001b[0m\u001b[1;33m\u001b[0m\u001b[0m\n\u001b[0m\u001b[0;32m     11\u001b[0m     \u001b[1;32melif\u001b[0m \u001b[0mfile_folder\u001b[0m\u001b[1;33m[\u001b[0m\u001b[1;34m'item_type'\u001b[0m\u001b[1;33m]\u001b[0m\u001b[1;33m==\u001b[0m\u001b[1;34m'file'\u001b[0m\u001b[1;33m:\u001b[0m\u001b[1;33m\u001b[0m\u001b[0m\n\u001b[0;32m     12\u001b[0m         \u001b[0mprint\u001b[0m\u001b[1;33m(\u001b[0m\u001b[1;34m'file!'\u001b[0m\u001b[1;33m)\u001b[0m\u001b[1;33m\u001b[0m\u001b[0m\n",
      "\u001b[1;32m<ipython-input-9-a86aa22eb9b8>\u001b[0m in \u001b[0;36mcheck_file_folder\u001b[1;34m(file_folder)\u001b[0m\n\u001b[0;32m      6\u001b[0m         \u001b[0mfolder\u001b[0m \u001b[1;33m=\u001b[0m \u001b[0mrequests\u001b[0m\u001b[1;33m.\u001b[0m\u001b[0mget\u001b[0m\u001b[1;33m(\u001b[0m\u001b[0mfile_folder\u001b[0m\u001b[1;33m[\u001b[0m\u001b[1;34m'links'\u001b[0m\u001b[1;33m]\u001b[0m\u001b[1;33m[\u001b[0m\u001b[1;34m'related'\u001b[0m\u001b[1;33m]\u001b[0m\u001b[1;33m)\u001b[0m\u001b[1;33m.\u001b[0m\u001b[0mjson\u001b[0m\u001b[1;33m(\u001b[0m\u001b[1;33m)\u001b[0m\u001b[1;33m[\u001b[0m\u001b[1;34m'data'\u001b[0m\u001b[1;33m]\u001b[0m\u001b[1;33m\u001b[0m\u001b[0m\n\u001b[0;32m      7\u001b[0m         \u001b[1;32mif\u001b[0m \u001b[1;32mnot\u001b[0m \u001b[0mos\u001b[0m\u001b[1;33m.\u001b[0m\u001b[0mpath\u001b[0m\u001b[1;33m.\u001b[0m\u001b[0mexists\u001b[0m\u001b[1;33m(\u001b[0m\u001b[0mfile_folder\u001b[0m\u001b[1;33m[\u001b[0m\u001b[1;34m'name'\u001b[0m\u001b[1;33m]\u001b[0m\u001b[1;33m)\u001b[0m\u001b[1;33m:\u001b[0m\u001b[1;33m\u001b[0m\u001b[0m\n\u001b[1;32m----> 8\u001b[1;33m             \u001b[0mos\u001b[0m\u001b[1;33m.\u001b[0m\u001b[0mmakedirs\u001b[0m\u001b[1;33m(\u001b[0m\u001b[1;34m'/home/himanshu/OSF-Offline/sandbox/osfstorage/{}'\u001b[0m\u001b[1;33m.\u001b[0m\u001b[0mformat\u001b[0m\u001b[1;33m(\u001b[0m\u001b[0mfile_folder\u001b[0m\u001b[1;33m[\u001b[0m\u001b[1;34m'name'\u001b[0m\u001b[1;33m]\u001b[0m\u001b[1;33m)\u001b[0m\u001b[1;33m)\u001b[0m\u001b[1;33m\u001b[0m\u001b[0m\n\u001b[0m\u001b[0;32m      9\u001b[0m         \u001b[1;32mfor\u001b[0m \u001b[0minner\u001b[0m \u001b[1;32min\u001b[0m \u001b[0mfolder\u001b[0m\u001b[1;33m:\u001b[0m\u001b[1;33m\u001b[0m\u001b[0m\n\u001b[0;32m     10\u001b[0m             \u001b[0mcheck_file_folder\u001b[0m\u001b[1;33m(\u001b[0m\u001b[0minner\u001b[0m\u001b[1;33m)\u001b[0m\u001b[1;33m\u001b[0m\u001b[0m\n",
      "\u001b[1;32m/home/himanshu/.virtualenvs/osfoffline/lib/python3.4/os.py\u001b[0m in \u001b[0;36mmakedirs\u001b[1;34m(name, mode, exist_ok)\u001b[0m\n\u001b[0;32m    235\u001b[0m             \u001b[1;32mreturn\u001b[0m\u001b[1;33m\u001b[0m\u001b[0m\n\u001b[0;32m    236\u001b[0m     \u001b[1;32mtry\u001b[0m\u001b[1;33m:\u001b[0m\u001b[1;33m\u001b[0m\u001b[0m\n\u001b[1;32m--> 237\u001b[1;33m         \u001b[0mmkdir\u001b[0m\u001b[1;33m(\u001b[0m\u001b[0mname\u001b[0m\u001b[1;33m,\u001b[0m \u001b[0mmode\u001b[0m\u001b[1;33m)\u001b[0m\u001b[1;33m\u001b[0m\u001b[0m\n\u001b[0m\u001b[0;32m    238\u001b[0m     \u001b[1;32mexcept\u001b[0m \u001b[0mOSError\u001b[0m \u001b[1;32mas\u001b[0m \u001b[0me\u001b[0m\u001b[1;33m:\u001b[0m\u001b[1;33m\u001b[0m\u001b[0m\n\u001b[0;32m    239\u001b[0m         \u001b[1;32mif\u001b[0m \u001b[1;32mnot\u001b[0m \u001b[0mexist_ok\u001b[0m \u001b[1;32mor\u001b[0m \u001b[0me\u001b[0m\u001b[1;33m.\u001b[0m\u001b[0merrno\u001b[0m \u001b[1;33m!=\u001b[0m \u001b[0merrno\u001b[0m\u001b[1;33m.\u001b[0m\u001b[0mEEXIST\u001b[0m \u001b[1;32mor\u001b[0m \u001b[1;32mnot\u001b[0m \u001b[0mpath\u001b[0m\u001b[1;33m.\u001b[0m\u001b[0misdir\u001b[0m\u001b[1;33m(\u001b[0m\u001b[0mname\u001b[0m\u001b[1;33m)\u001b[0m\u001b[1;33m:\u001b[0m\u001b[1;33m\u001b[0m\u001b[0m\n",
      "\u001b[1;31mFileExistsError\u001b[0m: [Errno 17] File exists: '/home/himanshu/OSF-Offline/sandbox/osfstorage/list of classes to take~'"
     ]
    }
   ],
   "source": [
    "# files = requests.get(myproject['links']['files']['related']) #has both folders and files\n",
    "\n",
    "local_project_folder = '/home/himanshu/OSF-Offline/sandbox/project/'\n",
    "\n",
    "def check_file_folder(file_folder):\n",
    "    if file_folder['item_type']=='folder':\n",
    "        print('folder!')\n",
    "        folder = requests.get(file_folder['links']['related']).json()['data']\n",
    "        if not os.path.exists(file_folder['name']):\n",
    "            os.makedirs('/home/himanshu/OSF-Offline/sandbox/osfstorage/{}'.format(file_folder['name']))\n",
    "        for inner in folder:\n",
    "            check_file_folder(inner)\n",
    "    elif file_folder['item_type']=='file':\n",
    "        print('file!')\n",
    "        r = requests.get(file_folder['links']['self'])\n",
    "        with open('/home/himanshu/OSF-Offline/sandbox/osfstorage/{}'.format(file_folder['name']), 'wb') as fd:\n",
    "            for chunk in r.iter_content(2048): #todo: which is better? 1024 or 2048? Apparently, not much difference.\n",
    "                fd.write(chunk)\n",
    "            print('file SHOULD now be on local storage.')\n",
    "        \n",
    "        \n",
    "\n",
    "def check_component(component):\n",
    "    if not os.path.exists(os.path.join(local_project_folder, component['name'])):\n",
    "            os.makedirs(os.path.join(local_project_folder, component['name']))\n",
    "    files_folders = requests.get(component['links']['files']['related']).json()['data']\n",
    "    for file_folder in files_folders:\n",
    "        check_file_folder(file_folder)\n",
    "    print(file_folder)\n",
    "    \n",
    "    child_components = []\n",
    "    child_components_resp = requests.get(component['links']['children']['related']).json()\n",
    "    child_components.extend(child_components_resp['data'])\n",
    "    while child_components_resp['links']['meta']['next'] != None:\n",
    "        child_components_resp = requests.get(component['links']['next']).json()\n",
    "        child_components.extend(child_components_resp['data'])    \n",
    "    for child_component in child_components:\n",
    "        check_component(child_component)\n",
    "        \n",
    "        \n",
    "check_component(myproject)"
   ]
  },
  {
   "cell_type": "code",
   "execution_count": 15,
   "metadata": {},
   "outputs": [
    {
     "name": "stdout",
     "output_type": "stream",
     "text": [
      "d41d8cd98f00b204e9800998ecf8427e\n"
     ]
    }
   ],
   "source": [
    "hasher = hashlib.md5()\n",
    "with open('/home/himanshu/OSF-Offline/sandbox/some_file.txt', 'rb') as afile:\n",
    "    buf = afile.read()\n",
    "    hasher.update(buf)\n",
    "print(hasher.hexdigest())"
   ]
  },
  {
   "cell_type": "code",
   "execution_count": 14,
   "metadata": {},
   "outputs": [],
   "source": [
    "r = requests.get('https://files-api-staging2.osf.io/file?path=%2F55802f0f404f772ee954abac&nid=zexc9&provider=osfstorage&cookie=5581dfd6404f774825676c14.5gyk4BEgYgZ0GDrlMsAdZ6MCJbY')\n",
    "with open('/home/himanshu/OSF-Offline/sandbox/some_file.txt', 'wb') as fd:\n",
    "    for chunk in r.iter_content(2048):\n",
    "        fd.write(chunk)\n",
    "    print('done!')"
   ]
  },
  {
   "cell_type": "code",
   "execution_count": null,
   "metadata": {},
   "outputs": [],
   "source": [
    "def download_file(file_link, download_to):\n",
    "    r = requests.get(file_link)\n",
    "    with open(download_to, 'wb') as fd:\n",
    "        for chunk in r.iter_content(2048): #todo: which is better? 1024 or 2048? Apparently, not much difference for client.\n",
    "            fd.write(chunk)\n",
    "        print('file SHOULD now be on local storage.')\n",
    "\n",
    "def download_folder(file_folder, download_to):\n",
    "    if file_folder['item_type']=='folder':\n",
    "        print('folder!')\n",
    "        folder = requests.get(file_folder['links']['related']).json()['data']\n",
    "        if not os.path.exists(file_folder['name']):\n",
    "            os.makedirs(os.path.join(download_to, file_folder['name']))\n",
    "        for inner in folder:\n",
    "            download_folder(inner, os.path.join(download_to,inner['name']))\n",
    "    elif file_folder['item_type'] == 'file':\n",
    "        print('file!')\n",
    "        download_file(file_folder['links']['self'], os.path.join(download_to, file_folder['name']))"
   ]
  },
  {
   "cell_type": "code",
   "execution_count": 1,
   "metadata": {},
   "outputs": [
    {
     "name": "stdout",
     "output_type": "stream",
     "text": [
      "{'date_created': '2015-02-03T15:36:49.901000', 'type': 'nodes', 'links': {'registrations': {'count': 0, 'related': 'https://staging2.osf.io/api/v2/nodes/c8dkn/registrations/'}, 'contributors': {'count': 229, 'related': 'https://staging2.osf.io/api/v2/nodes/c8dkn/contributors/'}, 'pointers': {'count': 0, 'related': 'https://staging2.osf.io/api/v2/nodes/c8dkn/pointers/'}, 'self': 'https://staging2.osf.io/api/v2/nodes/c8dkn/', 'files': {'related': 'https://staging2.osf.io/api/v2/nodes/c8dkn/files/'}, 'children': {'count': 0, 'related': 'https://staging2.osf.io/api/v2/nodes/c8dkn/children/'}, 'html': 'https://staging2.osf.io/c8dkn/'}, 'category': 'project', 'id': 'c8dkn', 'title': 'Inverse optimal moderator', 'date_modified': '2015-02-28T23:04:40.832000', 'public': True, 'description': 'implement global experiences', 'tags': {'user': [], 'system': []}, 'properties': {'registration': False, 'collection': False, 'dashboard': False}}\nfolder!"
     ]
    },
    {
     "name": "stdout",
     "output_type": "stream",
     "text": [
      "\n"
     ]
    },
    {
     "ename": "TypeError",
     "evalue": "list indices must be integers, not str",
     "output_type": "error",
     "traceback": [
      "\u001b[1;31m---------------------------------------------------------------------------\u001b[0m",
      "\u001b[1;31mTypeError\u001b[0m                                 Traceback (most recent call last)",
      "\u001b[1;32m<ipython-input-1-fcf96104c4fb>\u001b[0m in \u001b[0;36m<module>\u001b[1;34m()\u001b[0m\n\u001b[0;32m     59\u001b[0m         \u001b[0mcheck_component\u001b[0m\u001b[1;33m(\u001b[0m\u001b[0mchild_component\u001b[0m\u001b[1;33m,\u001b[0m \u001b[0mnew_local_folder\u001b[0m\u001b[1;33m)\u001b[0m\u001b[1;33m\u001b[0m\u001b[0m\n\u001b[0;32m     60\u001b[0m \u001b[1;33m\u001b[0m\u001b[0m\n\u001b[1;32m---> 61\u001b[1;33m \u001b[0mcheck_osf\u001b[0m\u001b[1;33m(\u001b[0m\u001b[0muser\u001b[0m\u001b[1;33m,\u001b[0m \u001b[0mlocal_folder\u001b[0m\u001b[1;33m)\u001b[0m\u001b[1;33m\u001b[0m\u001b[0m\n\u001b[0m",
      "\u001b[1;32m<ipython-input-1-fcf96104c4fb>\u001b[0m in \u001b[0;36mcheck_osf\u001b[1;34m(user, local_folder)\u001b[0m\n\u001b[0;32m     12\u001b[0m     \u001b[0mprojects\u001b[0m \u001b[1;33m=\u001b[0m \u001b[0mprojects\u001b[0m\u001b[1;33m.\u001b[0m\u001b[0mjson\u001b[0m\u001b[1;33m(\u001b[0m\u001b[1;33m)\u001b[0m\u001b[1;33m[\u001b[0m\u001b[1;34m'data'\u001b[0m\u001b[1;33m]\u001b[0m\u001b[1;33m\u001b[0m\u001b[0m\n\u001b[0;32m     13\u001b[0m     \u001b[1;32mfor\u001b[0m \u001b[0mproject\u001b[0m \u001b[1;32min\u001b[0m \u001b[0mprojects\u001b[0m\u001b[1;33m:\u001b[0m\u001b[1;33m\u001b[0m\u001b[0m\n\u001b[1;32m---> 14\u001b[1;33m         \u001b[0mcheck_project\u001b[0m\u001b[1;33m(\u001b[0m\u001b[0mproject\u001b[0m\u001b[1;33m,\u001b[0m\u001b[0mlocal_folder\u001b[0m\u001b[1;33m)\u001b[0m\u001b[1;33m\u001b[0m\u001b[0m\n\u001b[0m\u001b[0;32m     15\u001b[0m \u001b[1;33m\u001b[0m\u001b[0m\n\u001b[0;32m     16\u001b[0m \u001b[1;32mdef\u001b[0m \u001b[0mcheck_project\u001b[0m\u001b[1;33m(\u001b[0m\u001b[0mproject\u001b[0m\u001b[1;33m,\u001b[0m\u001b[0mlocal_folder\u001b[0m\u001b[1;33m)\u001b[0m\u001b[1;33m:\u001b[0m\u001b[1;33m\u001b[0m\u001b[0m\n",
      "\u001b[1;32m<ipython-input-1-fcf96104c4fb>\u001b[0m in \u001b[0;36mcheck_project\u001b[1;34m(project, local_folder)\u001b[0m\n\u001b[0;32m     18\u001b[0m     \u001b[1;31m#     os.makedirs(os.path.join(local_folder, project['name']))\u001b[0m\u001b[1;33m\u001b[0m\u001b[1;33m\u001b[0m\u001b[0m\n\u001b[0;32m     19\u001b[0m     \u001b[1;31m#todo: stuff to do here before checking project\u001b[0m\u001b[1;33m\u001b[0m\u001b[1;33m\u001b[0m\u001b[0m\n\u001b[1;32m---> 20\u001b[1;33m     \u001b[0mcheck_component\u001b[0m\u001b[1;33m(\u001b[0m\u001b[0mproject\u001b[0m\u001b[1;33m,\u001b[0m \u001b[0mlocal_folder\u001b[0m\u001b[1;33m)\u001b[0m\u001b[1;33m\u001b[0m\u001b[0m\n\u001b[0m\u001b[0;32m     21\u001b[0m \u001b[1;33m\u001b[0m\u001b[0m\n\u001b[0;32m     22\u001b[0m \u001b[1;32mdef\u001b[0m \u001b[0mcheck_file_folder\u001b[0m\u001b[1;33m(\u001b[0m\u001b[0mfile_folder\u001b[0m\u001b[1;33m,\u001b[0m\u001b[0mlocal_folder\u001b[0m\u001b[1;33m)\u001b[0m\u001b[1;33m:\u001b[0m\u001b[1;33m\u001b[0m\u001b[0m\n",
      "\u001b[1;32m<ipython-input-1-fcf96104c4fb>\u001b[0m in \u001b[0;36mcheck_component\u001b[1;34m(component, local_folder)\u001b[0m\n\u001b[0;32m     46\u001b[0m     \u001b[0mfiles_folders\u001b[0m \u001b[1;33m=\u001b[0m \u001b[0mrequests\u001b[0m\u001b[1;33m.\u001b[0m\u001b[0mget\u001b[0m\u001b[1;33m(\u001b[0m\u001b[0mcomponent\u001b[0m\u001b[1;33m[\u001b[0m\u001b[1;34m'links'\u001b[0m\u001b[1;33m]\u001b[0m\u001b[1;33m[\u001b[0m\u001b[1;34m'files'\u001b[0m\u001b[1;33m]\u001b[0m\u001b[1;33m[\u001b[0m\u001b[1;34m'related'\u001b[0m\u001b[1;33m]\u001b[0m\u001b[1;33m)\u001b[0m\u001b[1;33m.\u001b[0m\u001b[0mjson\u001b[0m\u001b[1;33m(\u001b[0m\u001b[1;33m)\u001b[0m\u001b[1;33m[\u001b[0m\u001b[1;34m'data'\u001b[0m\u001b[1;33m]\u001b[0m\u001b[1;33m\u001b[0m\u001b[0m\n\u001b[0;32m     47\u001b[0m     \u001b[1;32mfor\u001b[0m \u001b[0mfile_folder\u001b[0m \u001b[1;32min\u001b[0m \u001b[0mfiles_folders\u001b[0m\u001b[1;33m:\u001b[0m\u001b[1;33m\u001b[0m\u001b[0m\n\u001b[1;32m---> 48\u001b[1;33m         \u001b[0mcheck_file_folder\u001b[0m\u001b[1;33m(\u001b[0m\u001b[0mfile_folder\u001b[0m\u001b[1;33m,\u001b[0m\u001b[0mnew_local_folder\u001b[0m\u001b[1;33m)\u001b[0m\u001b[1;33m\u001b[0m\u001b[0m\n\u001b[0m\u001b[0;32m     49\u001b[0m \u001b[1;33m\u001b[0m\u001b[0m\n\u001b[0;32m     50\u001b[0m     \u001b[0mchild_components\u001b[0m \u001b[1;33m=\u001b[0m \u001b[1;33m[\u001b[0m\u001b[1;33m]\u001b[0m\u001b[1;33m\u001b[0m\u001b[0m\n",
      "\u001b[1;32m<ipython-input-1-fcf96104c4fb>\u001b[0m in \u001b[0;36mcheck_file_folder\u001b[1;34m(file_folder, local_folder)\u001b[0m\n\u001b[0;32m     24\u001b[0m         \u001b[0mprint\u001b[0m\u001b[1;33m(\u001b[0m\u001b[1;34m'folder!'\u001b[0m\u001b[1;33m)\u001b[0m\u001b[1;33m\u001b[0m\u001b[0m\n\u001b[0;32m     25\u001b[0m         \u001b[0mnew_local_folder\u001b[0m \u001b[1;33m=\u001b[0m \u001b[0mos\u001b[0m\u001b[1;33m.\u001b[0m\u001b[0mpath\u001b[0m\u001b[1;33m.\u001b[0m\u001b[0mjoin\u001b[0m\u001b[1;33m(\u001b[0m\u001b[0mlocal_folder\u001b[0m\u001b[1;33m,\u001b[0m \u001b[0mfile_folder\u001b[0m\u001b[1;33m[\u001b[0m\u001b[1;34m'name'\u001b[0m\u001b[1;33m]\u001b[0m\u001b[1;33m)\u001b[0m\u001b[1;33m\u001b[0m\u001b[0m\n\u001b[1;32m---> 26\u001b[1;33m         \u001b[0mfolder\u001b[0m \u001b[1;33m=\u001b[0m \u001b[0mrequests\u001b[0m\u001b[1;33m.\u001b[0m\u001b[0mget\u001b[0m\u001b[1;33m(\u001b[0m\u001b[0mfile_folder\u001b[0m\u001b[1;33m[\u001b[0m\u001b[1;34m'links'\u001b[0m\u001b[1;33m]\u001b[0m\u001b[1;33m[\u001b[0m\u001b[1;34m'related'\u001b[0m\u001b[1;33m]\u001b[0m\u001b[1;33m)\u001b[0m\u001b[1;33m.\u001b[0m\u001b[0mjson\u001b[0m\u001b[1;33m(\u001b[0m\u001b[1;33m)\u001b[0m\u001b[1;33m[\u001b[0m\u001b[1;34m'data'\u001b[0m\u001b[1;33m]\u001b[0m\u001b[1;33m\u001b[0m\u001b[0m\n\u001b[0m\u001b[0;32m     27\u001b[0m         \u001b[1;32mif\u001b[0m \u001b[1;32mnot\u001b[0m \u001b[0mos\u001b[0m\u001b[1;33m.\u001b[0m\u001b[0mpath\u001b[0m\u001b[1;33m.\u001b[0m\u001b[0mexists\u001b[0m\u001b[1;33m(\u001b[0m\u001b[0mnew_local_folder\u001b[0m\u001b[1;33m)\u001b[0m\u001b[1;33m:\u001b[0m\u001b[1;33m\u001b[0m\u001b[0m\n\u001b[0;32m     28\u001b[0m             \u001b[0mos\u001b[0m\u001b[1;33m.\u001b[0m\u001b[0mmakedirs\u001b[0m\u001b[1;33m(\u001b[0m\u001b[0mnew_local_folder\u001b[0m\u001b[1;33m)\u001b[0m\u001b[1;33m\u001b[0m\u001b[0m\n",
      "\u001b[1;31mTypeError\u001b[0m: list indices must be integers, not str"
     ]
    }
   ],
   "source": [
    "#this is the officialish final cell\n",
    "import requests\n",
    "import hashlib\n",
    "from ProjectTree.ProjectTree import ProjectTree\n",
    "import os\n",
    "user = requests.get('https://staging2.osf.io:443/api/v2/users/?filter[family_name]=ojha').json()['data'][0] \n",
    "local_folder = '/home/himanshu/OSF-Offline/sandbox/OSF_FOLDER/'\n",
    "\n",
    "def check_osf(user, local_folder):\n",
    "    user_id = user['id']\n",
    "    projects = requests.get('https://staging2.osf.io:443/api/v2/users/{}/nodes/?filter[category]=project'.format(user_id))\n",
    "    projects = projects.json()['data']\n",
    "    for project in projects:\n",
    "        check_project(project,local_folder)\n",
    "\n",
    "def check_project(project,local_folder):\n",
    "    # if not os.path.exists(os.path.join(local_folder,project['name'])):\n",
    "    #     os.makedirs(os.path.join(local_folder, project['name']))\n",
    "    #todo: stuff to do here before checking project\n",
    "    check_component(project, local_folder)\n",
    "    \n",
    "def check_file_folder(file_folder,local_folder):\n",
    "    if file_folder['item_type']=='folder':\n",
    "        print('folder!')\n",
    "        new_local_folder = os.path.join(local_folder, file_folder['name'])\n",
    "        folder = requests.get(file_folder['links']['related']).json()['data']\n",
    "        if not os.path.exists(new_local_folder):\n",
    "            os.makedirs(new_local_folder)\n",
    "        for inner in folder:\n",
    "            check_file_folder(inner,new_local_folder)\n",
    "    elif file_folder['item_type']=='file':\n",
    "        print('file!')\n",
    "        new_local_file_path = os.path.join(local_folder,file_folder['name'])\n",
    "        if not os.path.exists(new_local_file_path):\n",
    "            r = requests.get(file_folder['links']['self'])\n",
    "            with open(new_local_file_path, 'wb') as fd:\n",
    "                for chunk in r.iter_content(2048): #todo: which is better? 1024 or 2048? Apparently, not much difference.\n",
    "                    fd.write(chunk)\n",
    "                print('file SHOULD now be on local storage.')\n",
    "        \n",
    "def check_component(component, local_folder):\n",
    "    print(component)\n",
    "    new_local_folder = os.path.join(local_folder, component['title'])\n",
    "    if not os.path.exists(new_local_folder):\n",
    "            os.makedirs(new_local_folder)\n",
    "    files_folders = requests.get(component['links']['files']['related']).json()['data']\n",
    "    for file_folder in files_folders:\n",
    "        check_file_folder(file_folder,new_local_folder)\n",
    "    \n",
    "    child_components = []\n",
    "    child_components_resp = requests.get(component['links']['children']['related']).json()\n",
    "    print('---------------------------HIMANSHU----------------------------')\n",
    "    print(child_components_resp)\n",
    "    child_components.extend(child_components_resp['data'])\n",
    "    while child_components_resp['links']['next'] != None:\n",
    "        child_components_resp = requests.get(component['links']['next']).json()\n",
    "        child_components.extend(child_components_resp['data'])    \n",
    "    for child_component in child_components:\n",
    "        check_component(child_component, new_local_folder)\n",
    "\n",
    "check_osf(user, local_folder)"
   ]
  },
  {
   "cell_type": "code",
   "execution_count": null,
   "metadata": {},
   "outputs": [],
   "source": [
    ""
   ]
  }
 ],
 "metadata": {
  "kernelspec": {
   "display_name": "Python 3",
   "language": "python",
   "name": "python3"
  },
  "language_info": {
   "codemirror_mode": {
    "name": "ipython",
    "version": 3.0
   },
   "file_extension": ".py",
   "mimetype": "text/x-python",
   "name": "python",
   "nbconvert_exporter": "python",
   "pygments_lexer": "ipython3",
   "version": "3.4.2"
  }
 },
 "nbformat": 4,
 "nbformat_minor": 0
}